{
 "cells": [
  {
   "cell_type": "markdown",
   "metadata": {},
   "source": [
    "# Artificial Intelligence\n",
    "## L.EIC – 3rd Year/2nd Semester\n",
    "### Exercise Sheet 1\n",
    "# Solving Problems by Searching"
   ]
  },
  {
   "cell_type": "markdown",
   "metadata": {},
   "source": [
    "## The Two Buckets Problem\n",
    "\n",
    "<img src=\"https://qph.cf2.quoracdn.net/main-qimg-45726b16b460cae0147ae8ca245a8fb0-pjlq\" width=\"250px\" height=\"250px\" align=\"right\">\n",
    "\n",
    "Two buckets of capacities **c1** (e.g. 4 liters) and **c2** (e.g. 3 liters), respectively, are initially empty. The buckets do not have any intermediate markings. The only operations you can perform are:\n",
    "\n",
    "- Fill (completely) a bucket \n",
    "- Empty a bucket.\n",
    "- Pour one bucket into the other (until the target one is full or the source one is empty).\n",
    "\n",
    "The aim is to determine which operations to carry out so that the first bucket contains exactly **n** liters (e.g. 2 litres)."
   ]
  },
  {
   "cell_type": "markdown",
   "metadata": {},
   "source": [
    "Formulate this problem as a search problem by defining the state representation, initial state, operators (their name, preconditions, effects, and cost), and objective test."
   ]
  },
  {
   "cell_type": "raw",
   "metadata": {
    "vscode": {
     "languageId": "raw"
    }
   },
   "source": [
    "# State Representation - [W1/W2] W1: 0-4, W2: 0-3\n",
    "# Initial State - [0/0]\n",
    "# Objective State - [2/_] or in general case [NL/_]\n",
    "# Operators - Emp1, Emp2, Fill1, Fill2, Pour12a, Pour 12b, Pour21a, Pour21b\n",
    "            - Emp1, Emp2, Fill1, Fill2, Pour12, Pour21\n",
    "            - Emp(x), Fill(x), Pour(x,y)  - could be good for multiple buckets\n",
    "\n",
    "\n",
    "# Operators (1st possibility):\n",
    "    – Emp1 – empty bucket 1\n",
    "    – Emp2 – empty bucket 2\n",
    "    – Fill1 – fill bucket 1\n",
    "    – Fill2 – fill bucket 2\n",
    "    – Pour12a – pour bucket 1 to 2 until 2 is full\n",
    "    – Pour12b – pour bucket 1 to 2 until 1 is empty\n",
    "    – Pour21a – pour bucket 2 to 1 until 1 is full\n",
    "    – Pour21b – pour bucket 2 to 1 until 2 is empty\n",
    "\n"
   ]
  },
  {
   "cell_type": "markdown",
   "metadata": {},
   "source": [
    "General Case (capacities b1, C2).   \n",
    "Operators (using moddeling 1): Emp1, Emp2, Fill1, Fill2, Pour12a, Pour12b, Pour21a, Pour21b  \n",
    "\n",
    "| Name  | PreCond | Effects | Cost |\n",
    "|-------|---------|---------|------|\n",
    "| Emp1  | W1 > 0 | W1 = 0 | 1 |\n",
    "| Emp2  | W2 > 0 | W2 = 0 | 1 |\n",
    "| Fill1 | W1 < b1 | W1 = b1 | 1 |\n",
    "| Fill2 | W2 < C2 | W2 = C2 | 1 |\n",
    "| Po12a | W1 > 0 and W2 < C2 and W1 >= C2 - W2 | W1 = W1 - (C2 - W2); W2 = C2 | 1 |\n",
    "| Po12b | W1 > 0 and W2 < C2 and W1 < C2 - W2 | W2 = W1 + W2; W1 = 0 | 1 |\n",
    "| Po21a | W2 > 0 and W1 < b1 and W2 >= C1 - W1 | W2 = W2 - (C1 - W1); W1 = C1 | 1 |\n",
    "| Po21b | W2 > 0 and W1 < C1 and W2 < C1 - W1 | W1 = W1 + W2; W2 = 0 | 1 |\n",
    "\n",
    "Other possible Costs:  \n",
    "- C2: Water Poured from tap\n",
    "- C3: Water wasted\n",
    "- C4: Weight carried\n",
    "\n",
    "| Name  | PreCond | Effects | C2 | C3 |\n",
    "|-------|---------|---------|----|----|\n",
    "| Emp1  | W1 > 0 | W1 = 0 | 0 | W1 |\n",
    "| Emp2  | W2 > 0 | W2 = 0 | 0 | W2 |\n",
    "| Fill1 | W1 < C1 | W1 = C1 | C1 - W1 | 0 |\n",
    "| Fill2 | W2 < C2 | W2 = C2 | C2 - W2 | 0 |\n",
    "| Po12a | W1 > 0 and W2 < C2 and W1 >= C2 - W2 | W1 = W1 - (C2 - W2); W2 = C2 | 0 | 0 |\n",
    "| Po12b | W1 > 0 and W2 < C2 and W1 < C2 - W2 | W2 = W1 + W2; W1 = 0 | 0 | 0 |\n",
    "| Po21a | W2 > 0 and W1 < C1 and W2 >= C1 - W1 | W2 = W2 - (C1 - W1); W1 = C1 | 0 | 0 |\n",
    "| Po21b | W2 > 0 and W1 < C1 and W2 < C1 - W1 | W1 = W1 + W2; W2 = 0 | 0 | 0 |"
   ]
  },
  {
   "cell_type": "markdown",
   "metadata": {},
   "source": [
    "What is the size of the state space for this problem? Represent the state space by drawing the possible objective states and displaying some of the possible transitions from the initial state."
   ]
  },
  {
   "cell_type": "markdown",
   "metadata": {},
   "source": [
    "#### State Space Graph\n",
    "Size = 5*4 = 20 states\n",
    "|     |     |     |     |     |\n",
    "|-----|-----|-----|-----|-----|\n",
    "| 0,0 | 4,0 | 1,3 | 0,1 | 0,2 |\n",
    "| 0,3 | 4,3 | 3,0 | 4,1 | 3,1 |\n",
    "| 2,0 | 2,1 | 2,2 | 2,3 | 3,3 |\n",
    "| 1,0 | 1,1 | 1,2 | 3,2 | 4,2 |\n",
    "\n",
    "\n",
    "##### Nodes\n",
    "\n",
    "- **Initial State:** 0,0\n",
    "- **Emp1:** 4,0\n",
    "- **Po21:** 1,3\n",
    "- **Po12:** 0,2\n",
    "- **Emp2:** 0,3\n",
    "- **Fill2:** 4,3\n",
    "- **Fill1:** 3,0\n",
    "- **Po21:** 4,1\n",
    "- **Po12:** 3,1\n",
    "- **Po21:** 2,2\n",
    "- **Po12:** 2,3\n",
    "- **Solution:** 3,3\n",
    "- **Solution:** 4,2\n",
    "- **Impossible:** 1,0\n",
    "- **Impossible:** 1,1\n",
    "- **Impossible:** 1,2\n",
    "- **Impossible:** 3,2\n",
    "\n",
    "##### Edges\n",
    "\n",
    "- **Initial State** --Emp1--> **Emp1**\n",
    "- **Initial State** --Fill2--> **Emp2**\n",
    "- **Emp1** --Po21--> **Po21**\n",
    "- **Emp1** --Po12--> **Po12**\n",
    "- **Emp2** --Fill1--> **Fill1**\n",
    "- **Emp2** --Emp1--> **Fill2**\n",
    "- **Fill2** --Po21--> **Po21**\n",
    "- **Fill2** --Po12--> **Po12**\n",
    "- **Fill1** --Po21--> **Po21**\n",
    "- **Fill1** --Po12--> **Po12**\n",
    "- **Po21** --Po12--> **Solution:** 3,3\n",
    "- **Po12** --Po21--> **Solution:** 4,2\n",
    "- **Po21** --> **Impossible:** 1,0\n",
    "- **Po21** --> **Impossible:** 1,1\n",
    "- **Po21** --> **Impossible:** 1,2\n",
    "- **Po12** --> **Impossible:** 3,2"
   ]
  },
  {
   "cell_type": "markdown",
   "metadata": {},
   "source": [
    "Solve the problem by hand, using tree search. What solutions have you found?"
   ]
  },
  {
   "cell_type": "raw",
   "metadata": {
    "vscode": {
     "languageId": "raw"
    }
   },
   "source": [
    "State Space Tree\n",
    "\n",
    "Initial State (0,0)\n",
    "├── Emp1 (4,0)\n",
    "│   ├── Po21 (1,3)\n",
    "│   └── Po12 (0,2)\n",
    "├── Emp2 (0,3)\n",
    "│   ├── Fill1 (3,0)\n",
    "│   │   ├── Po21 (4,1)\n",
    "│   │   └── Po12 (3,1)\n",
    "│   └── Fill2 (4,3)\n",
    "│       ├── Po21 (2,2)\n",
    "│       │   ├── Po12 (2,3)\n",
    "│       │   │   └── Solution (3,3)\n",
    "│       │   └── Solution (4,2)\n",
    "│       └── Po12 (3,3)\n",
    "├── Po21 (1,0)\n",
    "│   ├── Impossible (1,1)\n",
    "│   └── Impossible (1,2)\n",
    "└── Po12 (3,2)\n",
    "    └── Impossible (3,2)"
   ]
  },
  {
   "cell_type": "markdown",
   "metadata": {},
   "source": [
    "### Buildind a computational approach to handle the problem\n",
    "\n",
    "To build a program to solve the buckets problem, we will implement a solution that separates the problem definition from the algorithms used to traverse the state space. This way, we can reuse our implementations of the search strategies in other problems."
   ]
  },
  {
   "cell_type": "markdown",
   "metadata": {},
   "source": [
    "#### Representing the two buckets problem as a search problem\n",
    "\n",
    "Let's start by defining a state for the buckets problem. For that, it'll suffice to aggregate two quantities, each representing the amount of water in one of the buckets. We also define a way of printing the state."
   ]
  },
  {
   "cell_type": "code",
   "execution_count": 26,
   "metadata": {},
   "outputs": [],
   "source": [
    "c1 = 4   # capacity for bucket 1\n",
    "c2 = 3   # capacity for bucket 2\n",
    "\n",
    "class BucketState:\n",
    "    c1 = 4   # capacity for bucket 1\n",
    "    c2 = 3   # capacity for bucket 2\n",
    "    \n",
    "    def __init__(self, b1, b2):\n",
    "        self.b1 = b1\n",
    "        self.b2 = b2\n",
    "\n",
    "    '''needed for the visited list'''\n",
    "    def __eq__(self, other):\n",
    "        if isinstance(other, self.__class__):\n",
    "            return self.__dict__ == other.__dict__\n",
    "        else:\n",
    "            return False\n",
    "\n",
    "    def __ne__(self, other):\n",
    "        \"\"\"Overrides the default implementation (unnecessary in Python 3)\"\"\"\n",
    "        return not self.__eq__(other)\n",
    "    \n",
    "    def __hash__(self):\n",
    "        return hash((self.b1, self.b2)) \n",
    "    ''' - '''\n",
    "\n",
    "    def __str__(self):\n",
    "        return \"(\" + str(self.b1) + \", \" + str(self.b2) + \")\""
   ]
  },
  {
   "cell_type": "markdown",
   "metadata": {},
   "source": [
    "Now we define each of the operators on states:"
   ]
  },
  {
   "cell_type": "code",
   "execution_count": 27,
   "metadata": {},
   "outputs": [],
   "source": [
    "# Emptying the first bucket\n",
    "def empty1(state):\n",
    "    if state.b1 > 0:\n",
    "        return BucketState(0, state.b2)\n",
    "    return None\n",
    "\n",
    "# Emptying the second bucket\n",
    "def empty2(state):\n",
    "    if state.b2 > 0:\n",
    "        return BucketState(state.b1, 0)\n",
    "    return None\n",
    "\n",
    "# Filling the first bucket\n",
    "def fill1(state):\n",
    "    if state.b1 < c1:\n",
    "        return BucketState(c1, state.b2)\n",
    "    return None\n",
    "\n",
    "# Filling the second bucket\n",
    "def fill2(state):\n",
    "    if state.b2 < c2:\n",
    "        return BucketState(state.b1, c2)\n",
    "    return None\n",
    "\n",
    "# Pouring from the first bucket to the second bucket until the second bucket is full\n",
    "def pour12_fill2(state):\n",
    "    if state.b1 > 0 and state.b2 < c2 and state.b1 >= c2 - state.b2:\n",
    "        return BucketState(state.b1 - (c2 - state.b2), c2)  \n",
    "    return None\n",
    "\n",
    "# Pouring from the first bucket to the second bucket until the first bucket is empty\n",
    "def pour12_empty1(state):\n",
    "    if state.b1 > 0 and state.b2 < c2 and state.b1 < c2 - state.b2:\n",
    "        return BucketState(0, state.b1 + state.b2)\n",
    "    return None\n",
    "\n",
    "# Pouring from the second bucket to the first bucket until the first bucket is full\n",
    "def pour21_fill1(state):\n",
    "    if state.b2 > 0 and state.b1 < c1 and state.b2 >= c1 - state.b1:\n",
    "        return BucketState(c1, state.b2 - (c1 - state.b1))\n",
    "    return None\n",
    "\n",
    "# Pouring from the second bucket to the first bucket until the second bucket is empty\n",
    "def pour21_empty2(state):\n",
    "    if state.b2 > 0 and state.b1 < c1 and state.b2 < c1 - state.b1:\n",
    "        return BucketState(state.b1 + state.b2, 0)\n",
    "    return None\n"
   ]
  },
  {
   "cell_type": "markdown",
   "metadata": {},
   "source": [
    "The following function will aggregate all states that can be generated from a given one:"
   ]
  },
  {
   "cell_type": "code",
   "execution_count": 28,
   "metadata": {},
   "outputs": [],
   "source": [
    "def child_bucket_states(state):\n",
    "    new_states = []\n",
    "    if(empty1(state)):\n",
    "        new_states.append((empty1(state), \"empty1\"))\n",
    "    if(empty2(state)):\n",
    "        new_states.append((empty2(state), \"empty2\"))\n",
    "    if(fill1(state)):\n",
    "        new_states.append((fill1(state), \"fill1\"))\n",
    "    if(fill2(state)):\n",
    "        new_states.append((fill2(state), \"fill2\"))\n",
    "    if(pour12_fill2(state)):\n",
    "        new_states.append((pour12_fill2(state), \"pour12_fill2\"))\n",
    "    if(pour12_empty1(state)):\n",
    "        new_states.append((pour12_empty1(state), \"pour12_empty1\"))\n",
    "    if(pour21_fill1(state)):\n",
    "        new_states.append((pour21_fill1(state), \"pour21_fill1\"))\n",
    "    if(pour21_empty2(state)):\n",
    "        new_states.append((pour21_empty2(state), \"pour21_empty2\"))\n",
    "    return new_states"
   ]
  },
  {
   "cell_type": "markdown",
   "metadata": {},
   "source": [
    "Play around with the state transition operators and check if they are working properly:"
   ]
  },
  {
   "cell_type": "code",
   "execution_count": 29,
   "metadata": {},
   "outputs": [
    {
     "name": "stdout",
     "output_type": "stream",
     "text": [
      "fill1:\n",
      "(4, 0)\n",
      "child_bucket_states:\n",
      "(4, 0) fill1\n",
      "(0, 3) fill2\n"
     ]
    }
   ],
   "source": [
    "s = BucketState(0, 0)\n",
    "s = fill1(s)\n",
    "print(\"fill1:\")\n",
    "print(s)\n",
    "\n",
    "child_bucket_states(BucketState(0, 0))\n",
    "child_states = child_bucket_states(BucketState(0, 0))\n",
    "print(\"child_bucket_states:\")\n",
    "for state,action in child_states:\n",
    "    print(state,action)"
   ]
  },
  {
   "cell_type": "markdown",
   "metadata": {},
   "source": [
    "Finally, we need to define the goal condition:"
   ]
  },
  {
   "cell_type": "code",
   "execution_count": 33,
   "metadata": {},
   "outputs": [],
   "source": [
    "def goal_bucket_state(state_action):\n",
    "    state, action = state_action\n",
    "    return state.b1 == 2"
   ]
  },
  {
   "cell_type": "markdown",
   "metadata": {},
   "source": [
    "Test your goal condition:"
   ]
  },
  {
   "cell_type": "code",
   "execution_count": 36,
   "metadata": {},
   "outputs": [
    {
     "name": "stdout",
     "output_type": "stream",
     "text": [
      "Testing goal condition for having 2 units in bucket2:\n",
      "Not a goal state: (4, 0)\n",
      "Not a goal state: (0, 3)\n"
     ]
    }
   ],
   "source": [
    "goal = 2\n",
    "print(f\"Testing goal condition for having {goal} units in bucket2:\")\n",
    "for state in child_states:\n",
    "    if goal_bucket_state(state):\n",
    "        print(f\"Goal state reached: {state[0]}\")\n",
    "    else:\n",
    "        print(f\"Not a goal state: {state[0]}\")"
   ]
  },
  {
   "cell_type": "markdown",
   "metadata": {},
   "source": [
    "#### Implementing search algorithms\n",
    "\n",
    "Let us start by defining an appropriate structure to represent a node in a search tree. Each tree node will include:\n",
    "- a state of the problem\n",
    "- a link to its parent (to allow traveling from a leaf node towards the root of the tree)\n",
    "- a list of child nodes"
   ]
  },
  {
   "cell_type": "code",
   "execution_count": 37,
   "metadata": {},
   "outputs": [],
   "source": [
    "# A generic definition of a tree node holding a state of the problem\n",
    "class TreeNode:\n",
    "    def __init__(self, state, parent=None, action=None):\n",
    "        self.state = state\n",
    "        self.parent = parent\n",
    "        self.children = []\n",
    "        self.action = action\n",
    "        \n",
    "    def add_child(self, child_node):\n",
    "        self.children.append(child_node)\n",
    "        child_node.parent = self"
   ]
  },
  {
   "cell_type": "markdown",
   "metadata": {},
   "source": [
    "##### Breadth-first search\n",
    "\n",
    "Based on this structure, we can now implement breadth-first search. Note that we want the implementation to be independent of the problem at hand (in this case, the two buckets problem)."
   ]
  },
  {
   "cell_type": "code",
   "execution_count": 42,
   "metadata": {},
   "outputs": [],
   "source": [
    "from collections import deque\n",
    "\n",
    "def breadth_first_search(initial_state, goal_state_func, operators_func):\n",
    "    root = TreeNode(initial_state[0])   # create the root node in the search tree\n",
    "    queue = deque([root])   # initialize the queue to store the nodes\n",
    "    visited = set([initial_state[0]])   # to avoid loops – only in small problems\n",
    "    while queue:\n",
    "        node = queue.popleft()   # get first element in the queue\n",
    "        if goal_state_func((node.state, node.action)):   # check goal state\n",
    "            return node\n",
    "        \n",
    "        for state, action in operators_func(node.state):   # go through next states\n",
    "            if state not in visited:   # to avoid loops\n",
    "                # add state to visited list\n",
    "                visited.add(state)\n",
    "                # create tree node with the new state\n",
    "                child_node = TreeNode(state=state, parent=node, action=action)\n",
    "                # link child node to its parent in the tree\n",
    "                node.add_child(child_node)\n",
    "                # enqueue the child node\n",
    "                queue.append(child_node)\n",
    "\n",
    "    return None\n"
   ]
  },
  {
   "cell_type": "markdown",
   "metadata": {},
   "source": [
    "We can now use this function to actually perform a breadth-first search on the buckets problem: we pass it the initial state, our goal condition function, and the function for obtaining child states."
   ]
  },
  {
   "cell_type": "code",
   "execution_count": 45,
   "metadata": {},
   "outputs": [
    {
     "name": "stdout",
     "output_type": "stream",
     "text": [
      "(2, 3)\n"
     ]
    }
   ],
   "source": [
    "goal = breadth_first_search((BucketState(0,0), None), goal_bucket_state, child_bucket_states)\n",
    "print(goal.state)"
   ]
  },
  {
   "cell_type": "markdown",
   "metadata": {},
   "source": [
    "In order to print the actual steps from the initial state to the last, we can take advantage of each node's link to its parent."
   ]
  },
  {
   "cell_type": "code",
   "execution_count": 48,
   "metadata": {},
   "outputs": [],
   "source": [
    "def print_solution(node):\n",
    "    path = []\n",
    "    while node:\n",
    "        path.append((node.state, node.action))\n",
    "        node = node.parent\n",
    "    path.reverse()\n",
    "    print(\"Solution:\")\n",
    "    for state, action in path:\n",
    "        print(f\"State: {state}, Action: {action}\")\n",
    "    return"
   ]
  },
  {
   "cell_type": "markdown",
   "metadata": {},
   "source": [
    "Now we can print the solution:"
   ]
  },
  {
   "cell_type": "code",
   "execution_count": 49,
   "metadata": {},
   "outputs": [
    {
     "name": "stdout",
     "output_type": "stream",
     "text": [
      "Solution:\n",
      "State: (0, 0), Action: None\n",
      "State: (4, 0), Action: fill1\n",
      "State: (1, 3), Action: pour12_fill2\n",
      "State: (1, 0), Action: empty2\n",
      "State: (0, 1), Action: pour12_empty1\n",
      "State: (4, 1), Action: fill1\n",
      "State: (2, 3), Action: pour12_fill2\n"
     ]
    }
   ],
   "source": [
    "print_solution(goal)"
   ]
  },
  {
   "cell_type": "markdown",
   "metadata": {},
   "source": [
    "If we need a description for each of the employed operators, we could have each operation function return also such a description, and modify the TreeNode class so that each node also includes a description of the edge to get there. We leave that as an exercise after class."
   ]
  },
  {
   "cell_type": "markdown",
   "metadata": {},
   "source": [
    "##### Depth-first search\n",
    "\n",
    "Implement depth-first search (again, in a manner that is independent of the problem at hand). You can start from your breadth-first search implementation and with minor changes get an implementation for depth-first search."
   ]
  },
  {
   "cell_type": "code",
   "execution_count": 50,
   "metadata": {},
   "outputs": [],
   "source": [
    "def depth_first_search(initial_state, goal_state_func, operators_func):\n",
    "    root = TreeNode(initial_state[0])   # create the root node in the search tree\n",
    "    stack = [root]   # initialize the stack to store the nodes\n",
    "    visited = set([initial_state[0]])   # to avoid loops – only in small problems\n",
    "    while stack:\n",
    "        node = stack.pop()   # get last element in the stack\n",
    "        if goal_state_func((node.state, node.action)):   # check goal state\n",
    "            return node\n",
    "        \n",
    "        for state, action in operators_func(node.state):   # go through next states\n",
    "            if state not in visited:   # to avoid loops\n",
    "                # add state to visited list\n",
    "                visited.add(state)\n",
    "                # create tree node with the new state\n",
    "                child_node = TreeNode(state=state, parent=node, action=action)\n",
    "                # link child node to its parent in the tree\n",
    "                node.add_child(child_node)\n",
    "                # push the child node\n",
    "                stack.append(child_node)\n",
    "\n",
    "    return None"
   ]
  },
  {
   "cell_type": "markdown",
   "metadata": {},
   "source": [
    "Test it on the two buckets problem."
   ]
  },
  {
   "cell_type": "code",
   "execution_count": 56,
   "metadata": {},
   "outputs": [
    {
     "name": "stdout",
     "output_type": "stream",
     "text": [
      "Solution:\n",
      "State: (0, 0), Action: None\n",
      "State: (0, 3), Action: fill2\n",
      "State: (3, 0), Action: pour21_empty2\n",
      "State: (3, 3), Action: fill2\n",
      "State: (4, 2), Action: pour21_fill1\n",
      "State: (0, 2), Action: empty1\n",
      "State: (2, 0), Action: pour21_empty2\n",
      "Number of steps: 6\n"
     ]
    }
   ],
   "source": [
    "def print_solution_dfs(node):\n",
    "    path = []\n",
    "    while node:\n",
    "        path.append((node.state, node.action))\n",
    "        node = node.parent\n",
    "    path.reverse()\n",
    "    print(\"Solution:\")\n",
    "    for state, action in path:\n",
    "        print(f\"State: {state}, Action: {action}\")\n",
    "    print(f\"Number of steps: {len(path) - 1}\")\n",
    "    return\n",
    "\n",
    "print_solution_dfs(depth_first_search((BucketState(0,0), None), goal_bucket_state, child_bucket_states))"
   ]
  },
  {
   "cell_type": "markdown",
   "metadata": {},
   "source": [
    "If you are unable to get a solution, think about it: depth-first search is not a complete search method, and one of the reasons for that is if the state space contains cycles. As such, you need to make sure you avoid entering into a cycle by keeping a visited nodes list or set and checking that list whenever you generate a new state."
   ]
  },
  {
   "cell_type": "markdown",
   "metadata": {},
   "source": [
    "##### Depth-limited search\n",
    "\n",
    "Another way to make it work is to impose a depth limit to the problem. Implement depth-limited search."
   ]
  },
  {
   "cell_type": "code",
   "execution_count": 57,
   "metadata": {},
   "outputs": [],
   "source": [
    "def depth_limited_search(initial_state, goal_state_func, operators_func, depth_limit):\n",
    "    root = TreeNode(initial_state[0])   # create the root node in the search tree\n",
    "    stack = [(root, 0)]   # initialize the stack to store the nodes\n",
    "    visited = set([initial_state[0]])   # to avoid loops – only in small problems\n",
    "    while stack:\n",
    "        node, depth = stack.pop()   # get last element in the stack\n",
    "        if goal_state_func((node.state, node.action)):   # check goal state\n",
    "            return node\n",
    "        \n",
    "        if depth < depth_limit:\n",
    "            for state, action in operators_func(node.state):   # go through next states\n",
    "                if state not in visited:   # to avoid loops\n",
    "                    # add state to visited list\n",
    "                    visited.add(state)\n",
    "                    # create tree node with the new state\n",
    "                    child_node = TreeNode(state=state, parent=node, action=action)\n",
    "                    # link child node to its parent in the tree\n",
    "                    node.add_child(child_node)\n",
    "                    # push the child node\n",
    "                    stack.append((child_node, depth + 1))\n",
    "\n",
    "    return None"
   ]
  },
  {
   "cell_type": "markdown",
   "metadata": {},
   "source": [
    "Test it on the two buckets problem."
   ]
  },
  {
   "cell_type": "code",
   "execution_count": 71,
   "metadata": {},
   "outputs": [
    {
     "name": "stdout",
     "output_type": "stream",
     "text": [
      "Test 1:\n",
      "Solution:\n",
      "State: (0, 0), Action: None\n",
      "State: (0, 3), Action: fill2\n",
      "State: (3, 0), Action: pour21_empty2\n",
      "State: (3, 3), Action: fill2\n",
      "State: (4, 2), Action: pour21_fill1\n",
      "State: (0, 2), Action: empty1\n",
      "State: (2, 0), Action: pour21_empty2\n",
      "Number of steps: 6\n",
      "Test 2:\n",
      "Solution not reached within the depth limit.\n"
     ]
    }
   ],
   "source": [
    "def print_solution_dls(node):\n",
    "    if node is None:\n",
    "        print(\"Solution not reached within the depth limit.\")\n",
    "        return\n",
    "    \n",
    "    path = []\n",
    "    while node:\n",
    "        path.append((node.state, node.action))\n",
    "        node = node.parent\n",
    "    path.reverse()\n",
    "    \n",
    "    print(\"Solution:\")\n",
    "    for state, action in path:\n",
    "        print(f\"State: {state}, Action: {action}\")\n",
    "    \n",
    "    if not goal_bucket_state(path[-1]):\n",
    "        print(\"Solution not reached within the depth limit.\")\n",
    "    else:\n",
    "        print(f\"Number of steps: {len(path) - 1}\")\n",
    "    return\n",
    "\n",
    "test1 = depth_limited_search((BucketState(0,0), None), goal_bucket_state, child_bucket_states, 6)\n",
    "test2 = depth_limited_search((BucketState(0,0), None), goal_bucket_state, child_bucket_states, 5)\n",
    "print(\"Test 1:\")\n",
    "print_solution_dls(test1)\n",
    "print(\"Test 2:\")\n",
    "print_solution_dls(test2)"
   ]
  },
  {
   "cell_type": "markdown",
   "metadata": {},
   "source": [
    "##### Iterative deepening search\n",
    "\n",
    "Based on depth-limited, you can easily implement iterative-deepening search."
   ]
  },
  {
   "cell_type": "code",
   "execution_count": 23,
   "metadata": {},
   "outputs": [],
   "source": [
    "def iterative_deepening_search(initial_state, goal_state_func, operators_func, depth_limit):\n",
    "    # your code here\n",
    "    "
   ]
  },
  {
   "cell_type": "markdown",
   "metadata": {},
   "source": [
    "Again, test it on the two buckets problem."
   ]
  },
  {
   "cell_type": "code",
   "execution_count": 24,
   "metadata": {},
   "outputs": [
    {
     "name": "stdout",
     "output_type": "stream",
     "text": [
      "(2, 3)\n",
      "Found goal state in 6 steps:\n",
      "(0, 0)\n",
      "(4, 0)\n",
      "(1, 3)\n",
      "(1, 0)\n",
      "(0, 1)\n",
      "(4, 1)\n",
      "(2, 3)\n"
     ]
    }
   ],
   "source": [
    "# your code here\n"
   ]
  },
  {
   "cell_type": "markdown",
   "metadata": {},
   "source": [
    "## The Missionaries and Cannibals Problem \n",
    "\n",
    "<img src=\"https://allfish24.files.wordpress.com/2016/09/gambar-1.jpg\">\n",
    "\n",
    "Three missionaries and three cannibals are on one of the banks of the river with a boat that only takes one or two people. The boat cannot travel the river alone.\n",
    "\n",
    "The goal is to find a way to get the six to the other bank of the river without ever leaving more cannibals than missionaries on one of the banks (even at the instant they leave/join the boat) during the process."
   ]
  },
  {
   "cell_type": "markdown",
   "metadata": {},
   "source": [
    "Formulate this problem as a search problem by defining the state representation, initial state, operators (their name, preconditions, effects, and cost), and objective test."
   ]
  },
  {
   "cell_type": "raw",
   "metadata": {},
   "source": [
    "\n",
    "\n"
   ]
  },
  {
   "cell_type": "markdown",
   "metadata": {},
   "source": [
    "Solve the problem by hand, using tree search. What solutions have you found?"
   ]
  },
  {
   "cell_type": "raw",
   "metadata": {},
   "source": [
    "\n",
    "\n"
   ]
  },
  {
   "cell_type": "markdown",
   "metadata": {},
   "source": [
    "Represent the problem as a search problem and take advantage of the implemented search algorithms to find solutions!"
   ]
  },
  {
   "cell_type": "code",
   "execution_count": null,
   "metadata": {},
   "outputs": [],
   "source": [
    "# your code here\n"
   ]
  }
 ],
 "metadata": {
  "kernelspec": {
   "display_name": "Python 3",
   "language": "python",
   "name": "python3"
  },
  "language_info": {
   "codemirror_mode": {
    "name": "ipython",
    "version": 3
   },
   "file_extension": ".py",
   "mimetype": "text/x-python",
   "name": "python",
   "nbconvert_exporter": "python",
   "pygments_lexer": "ipython3",
   "version": "3.10.11"
  }
 },
 "nbformat": 4,
 "nbformat_minor": 4
}
